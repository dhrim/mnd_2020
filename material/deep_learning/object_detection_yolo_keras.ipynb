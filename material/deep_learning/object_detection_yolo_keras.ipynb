{
  "nbformat": 4,
  "nbformat_minor": 0,
  "metadata": {
    "colab": {
      "name": "object_detection_yolo_keras.ipynb",
      "provenance": [],
      "collapsed_sections": []
    },
    "kernelspec": {
      "name": "python3",
      "display_name": "Python 3"
    },
    "accelerator": "GPU"
  },
  "cells": [
    {
      "cell_type": "code",
      "metadata": {
        "id": "av2BG56AsAU6",
        "colab_type": "code",
        "colab": {
          "base_uri": "https://localhost:8080/",
          "height": 35
        },
        "outputId": "2df8f931-9464-4ae2-a2ec-0b4c71e1cdf9"
      },
      "source": [
        "%tensorflow_version 1.x"
      ],
      "execution_count": 1,
      "outputs": [
        {
          "output_type": "stream",
          "text": [
            "TensorFlow 1.x selected.\n"
          ],
          "name": "stdout"
        }
      ]
    },
    {
      "cell_type": "markdown",
      "metadata": {
        "id": "AHI6iEfwVUzX",
        "colab_type": "text"
      },
      "source": [
        "# 물체 탐지(Object detection) - YOLO Keras\n",
        "\n",
        "DarkNet의 모델을 Keras로 변환하여 물체 탐지 실행.\n",
        "\n",
        "https://github.com/qqwweee/keras-yolo3\n"
      ]
    },
    {
      "cell_type": "markdown",
      "metadata": {
        "id": "rY9e-auCG63F",
        "colab_type": "text"
      },
      "source": [
        "## 프로젝트 다운로드\n"
      ]
    },
    {
      "cell_type": "code",
      "metadata": {
        "id": "TNgjI9jG433J",
        "colab_type": "code",
        "colab": {
          "base_uri": "https://localhost:8080/",
          "height": 122
        },
        "outputId": "a635218e-6bbd-4466-8296-97d16fa49d00"
      },
      "source": [
        "%cd /content\n",
        "\n",
        "!rm -rf keras-yolo3\n",
        "\n",
        "!git clone https://github.com/qqwweee/keras-yolo3\n"
      ],
      "execution_count": null,
      "outputs": [
        {
          "output_type": "stream",
          "text": [
            "/content\n",
            "Cloning into 'keras-yolo3'...\n",
            "remote: Enumerating objects: 144, done.\u001b[K\n",
            "remote: Total 144 (delta 0), reused 0 (delta 0), pack-reused 144\u001b[K\n",
            "Receiving objects: 100% (144/144), 150.95 KiB | 408.00 KiB/s, done.\n",
            "Resolving deltas: 100% (65/65), done.\n"
          ],
          "name": "stdout"
        }
      ]
    },
    {
      "cell_type": "markdown",
      "metadata": {
        "id": "fmn19zun6grm",
        "colab_type": "text"
      },
      "source": [
        "## YOLO3 모델 다운로드\n"
      ]
    },
    {
      "cell_type": "code",
      "metadata": {
        "id": "7FgHeVfQ6geU",
        "colab_type": "code",
        "colab": {
          "base_uri": "https://localhost:8080/",
          "height": 334
        },
        "outputId": "69d40196-0825-412a-ab2c-e26bbc4fd077"
      },
      "source": [
        "%cd /content/keras-yolo3\n",
        "!wget wget https://pjreddie.com/media/files/yolov3.weights"
      ],
      "execution_count": null,
      "outputs": [
        {
          "output_type": "stream",
          "text": [
            "/content/keras-yolo3\n",
            "--2019-08-07 02:16:08--  http://wget/\n",
            "Resolving wget (wget)... failed: Name or service not known.\n",
            "wget: unable to resolve host address ‘wget’\n",
            "--2019-08-07 02:16:08--  https://pjreddie.com/media/files/yolov3.weights\n",
            "Resolving pjreddie.com (pjreddie.com)... 128.208.4.108\n",
            "Connecting to pjreddie.com (pjreddie.com)|128.208.4.108|:443... connected.\n",
            "HTTP request sent, awaiting response... 200 OK\n",
            "Length: 248007048 (237M) [application/octet-stream]\n",
            "Saving to: ‘yolov3.weights’\n",
            "\n",
            "yolov3.weights      100%[===================>] 236.52M  23.2MB/s    in 11s     \n",
            "\n",
            "2019-08-07 02:16:20 (21.6 MB/s) - ‘yolov3.weights’ saved [248007048/248007048]\n",
            "\n",
            "FINISHED --2019-08-07 02:16:20--\n",
            "Total wall clock time: 12s\n",
            "Downloaded: 1 files, 237M in 11s (21.6 MB/s)\n"
          ],
          "name": "stdout"
        }
      ]
    },
    {
      "cell_type": "markdown",
      "metadata": {
        "id": "8PlyEQg7Z__4",
        "colab_type": "text"
      },
      "source": [
        "## 모델 파일 변환\n",
        "\n",
        "DarkNet의 모델파일을 Keras에서 사용할 수 있는 모델 파일로 변환한다.\n",
        "\n",
        "\n",
        "- convert.py : 변환 실행 파일\n",
        "- yolov3.cfg : Darknet에서 사용하는 모델 구조 정의 파일\n",
        "- yolov3.weight : Darknet으로 학습된 모델 파일\n",
        "\n",
        "실행 결과로 다음의 h5 파일로 변환된다. \n",
        "- yolov3.h5 : 변환된 모델 파일\n"
      ]
    },
    {
      "cell_type": "code",
      "metadata": {
        "id": "dftAKD1gHio7",
        "colab_type": "code",
        "colab": {
          "base_uri": "https://localhost:8080/",
          "height": 689
        },
        "outputId": "9237085f-1894-4512-8b20-cfb1b6d70f4c"
      },
      "source": [
        "!head -40 yolov3.cfg "
      ],
      "execution_count": null,
      "outputs": [
        {
          "output_type": "stream",
          "text": [
            "[net]\n",
            "# Testing\n",
            "batch=1\n",
            "subdivisions=1\n",
            "# Training\n",
            "# batch=64\n",
            "# subdivisions=16\n",
            "width=416\n",
            "height=416\n",
            "channels=3\n",
            "momentum=0.9\n",
            "decay=0.0005\n",
            "angle=0\n",
            "saturation = 1.5\n",
            "exposure = 1.5\n",
            "hue=.1\n",
            "\n",
            "learning_rate=0.001\n",
            "burn_in=1000\n",
            "max_batches = 500200\n",
            "policy=steps\n",
            "steps=400000,450000\n",
            "scales=.1,.1\n",
            "\n",
            "[convolutional]\n",
            "batch_normalize=1\n",
            "filters=32\n",
            "size=3\n",
            "stride=1\n",
            "pad=1\n",
            "activation=leaky\n",
            "\n",
            "# Downsample\n",
            "\n",
            "[convolutional]\n",
            "batch_normalize=1\n",
            "filters=64\n",
            "size=3\n",
            "stride=2\n",
            "pad=1\n"
          ],
          "name": "stdout"
        }
      ]
    },
    {
      "cell_type": "code",
      "metadata": {
        "id": "gvOIOGIG8Xja",
        "colab_type": "code",
        "colab": {
          "base_uri": "https://localhost:8080/",
          "height": 134
        },
        "outputId": "6c8a0b98-b59f-4ed0-9d50-bbb7e81a3130"
      },
      "source": [
        "# 실행하기전 기존것이 있다면 삭제\n",
        "!rm -rf yolov3.h5\n",
        "\n",
        "# 실행 \n",
        "%run convert.py yolov3.cfg yolov3.weights yolov3.h5"
      ],
      "execution_count": null,
      "outputs": [
        {
          "output_type": "stream",
          "text": [
            "Loading weights.\n",
            "Weights Header:  0 2 0 [32013312]\n",
            "Parsing Darknet config.\n",
            "Creating Keras model.\n",
            "Parsing section net_0\n",
            "Parsing section convolutional_0\n",
            "conv2d bn leaky (3, 3, 3, 32)\n"
          ],
          "name": "stdout"
        }
      ]
    },
    {
      "cell_type": "markdown",
      "metadata": {
        "id": "1xfI-D3VIIpA",
        "colab_type": "text"
      },
      "source": [
        "## 물체 탐지 실행\n",
        "\n",
        "다음의 파일이 사용된다.\n",
        "- yolov3.h5 : 모델 파일\n",
        "- model_data/coco_classes.txt : 클래스 이름\n"
      ]
    },
    {
      "cell_type": "code",
      "metadata": {
        "id": "DRBe_vbWNRkp",
        "colab_type": "code",
        "colab": {}
      },
      "source": [
        "!wget -O street_view.jpg http://beltlineorg-wpengine.netdna-ssl.com/wp-content/uploads/2012/12/IMG_5669-flickr-websized.jpg\n",
        "\n",
        "from IPython.display import Image, display\n",
        "display(Image(filename='street_view.jpg')) "
      ],
      "execution_count": null,
      "outputs": []
    },
    {
      "cell_type": "code",
      "metadata": {
        "id": "Hv0qhd0ZvGFQ",
        "colab_type": "code",
        "colab": {}
      },
      "source": [
        "!cat model_data/coco_classes.txt"
      ],
      "execution_count": null,
      "outputs": []
    },
    {
      "cell_type": "code",
      "metadata": {
        "id": "7s7KKDHnJ9Io",
        "colab_type": "code",
        "colab": {}
      },
      "source": [
        "from IPython.display import display \n",
        "from PIL import Image\n",
        "from yolo import YOLO\n",
        "\n",
        "def do_object_detection(file, model_path, class_path):\n",
        "  \n",
        "  yolo = YOLO(model_path=model_path, classes_path=class_path)\n",
        "\n",
        "  image = Image.open(file)\n",
        "  result_image = yolo.detect_image(image)\n",
        "\n",
        "  display(result_image)\n"
      ],
      "execution_count": null,
      "outputs": []
    },
    {
      "cell_type": "code",
      "metadata": {
        "id": "Yl7lcjtVe12i",
        "colab_type": "code",
        "colab": {}
      },
      "source": [
        "do_object_detection('street_view.jpg', 'yolov3.h5', 'model_data/coco_classes.txt')\n",
        "\n"
      ],
      "execution_count": null,
      "outputs": []
    },
    {
      "cell_type": "markdown",
      "metadata": {
        "id": "se-EGy95D1ee",
        "colab_type": "text"
      },
      "source": [
        "# 커스텀 데이터 학습\n"
      ]
    },
    {
      "cell_type": "markdown",
      "metadata": {
        "id": "MHtNlnN_L1R6",
        "colab_type": "text"
      },
      "source": [
        "## 커스터 데이터 다운로드\n",
        "\n",
        "standford dogs 데이터셋 중 10개 클래스만 추린 데이타"
      ]
    },
    {
      "cell_type": "code",
      "metadata": {
        "id": "InwJykAeL7zf",
        "colab_type": "code",
        "colab": {
          "base_uri": "https://localhost:8080/",
          "height": 316
        },
        "outputId": "a0c06be9-2c00-4868-8d0f-32587c022090"
      },
      "source": [
        "%cd /content/keras-yolo3\n",
        "\n",
        "!rm -rf dogs.tar.gz\n",
        "\n",
        "!wget https://github.com/dhrim/mnd_2020/raw/master/material/deep_learning/dogs.tar.gz\n"
      ],
      "execution_count": null,
      "outputs": [
        {
          "output_type": "stream",
          "text": [
            "/content/keras-yolo3\n",
            "--2019-08-07 02:16:25--  https://github.com/dhrim/mnd_2020/raw/master/material/deep_learning/dogs.tar.gz\n",
            "Resolving github.com (github.com)... 140.82.113.3\n",
            "Connecting to github.com (github.com)|140.82.113.3|:443... connected.\n",
            "HTTP request sent, awaiting response... 302 Found\n",
            "Location: https://raw.githubusercontent.com/dhrim/mnd_2020/raw/master/material/deep_learning/dogs.tar.gz [following]\n",
            "--2019-08-07 02:16:26--  https://raw.githubusercontent.com/dhrim/mnd_2020/raw/master/material/deep_learning/dogs.tar.gz\n",
            "Resolving raw.githubusercontent.com (raw.githubusercontent.com)... 151.101.0.133, 151.101.64.133, 151.101.128.133, ...\n",
            "Connecting to raw.githubusercontent.com (raw.githubusercontent.com)|151.101.0.133|:443... connected.\n",
            "HTTP request sent, awaiting response... 200 OK\n",
            "Length: 62885106 (60M) [application/octet-stream]\n",
            "Saving to: ‘dogs.tar.gz’\n",
            "\n",
            "dogs.tar.gz         100%[===================>]  59.97M   158MB/s    in 0.4s    \n",
            "\n",
            "2019-08-07 02:16:30 (158 MB/s) - ‘dogs.tar.gz’ saved [62885106/62885106]\n",
            "\n"
          ],
          "name": "stdout"
        }
      ]
    },
    {
      "cell_type": "code",
      "metadata": {
        "id": "N5dRc0zZMpI1",
        "colab_type": "code",
        "colab": {
          "base_uri": "https://localhost:8080/",
          "height": 210
        },
        "outputId": "4c282c73-9369-4073-cc5d-a58271ff41c0"
      },
      "source": [
        "%cd /content/keras-yolo3\n",
        "\n",
        "!rm -rf dogs\n",
        "\n",
        "!tar xfz dogs.tar.gz\n",
        "\n",
        "!ls -al dogs | head -10"
      ],
      "execution_count": null,
      "outputs": [
        {
          "output_type": "stream",
          "text": [
            "/content/keras-yolo3\n",
            "total 128\n",
            "drwxr-xr-x 12  501 staff  4096 Jul 23 15:49 .\n",
            "drwxr-xr-x  7 root root   4096 Aug  7 02:16 ..\n",
            "drwxr-xr-x  2  501 staff 12288 Aug  7 02:16 n02085620-Chihuahua\n",
            "drwxr-xr-x  2  501 staff 12288 Aug  7 02:16 n02085782-Japanese_spaniel\n",
            "drwxr-xr-x  2  501 staff 12288 Aug  7 02:16 n02085936-Maltese_dog\n",
            "drwxr-xr-x  2  501 staff 12288 Aug  7 02:16 n02086079-Pekinese\n",
            "drwxr-xr-x  2  501 staff 12288 Aug  7 02:16 n02086240-Shih-Tzu\n",
            "drwxr-xr-x  2  501 staff 12288 Aug  7 02:16 n02086646-Blenheim_spaniel\n",
            "drwxr-xr-x  2  501 staff 12288 Aug  7 02:16 n02086910-papillon\n"
          ],
          "name": "stdout"
        }
      ]
    },
    {
      "cell_type": "markdown",
      "metadata": {
        "id": "siyOTCJHLfXf",
        "colab_type": "text"
      },
      "source": [
        "## 데이터 준비\n",
        "\n",
        "2개의 파일\n",
        "\n",
        "- 클래스 파일\n",
        "- 레이블링 파일\n",
        "\n",
        "그리고 이미지 파일들"
      ]
    },
    {
      "cell_type": "code",
      "metadata": {
        "id": "G5-4qly227xN",
        "colab_type": "code",
        "colab": {
          "base_uri": "https://localhost:8080/",
          "height": 600
        },
        "outputId": "e5aa4fbc-f23e-4c23-cd0a-8f0c766df03a"
      },
      "source": [
        "!wget https://github.com/dhrim/mnd_2020/raw/master/material/deep_learning/dogs_classes.txt\n",
        "!wget https://github.com/dhrim/mnd_2020/raw/master/material/deep_learning/dogs_annotations.txt\n",
        "  "
      ],
      "execution_count": null,
      "outputs": [
        {
          "output_type": "stream",
          "text": [
            "--2019-08-07 02:16:40--  https://github.com/dhrim/mnd_2020/raw/master/material/deep_learning/dogs_classes.txt\n",
            "Resolving github.com (github.com)... 140.82.114.4\n",
            "Connecting to github.com (github.com)|140.82.114.4|:443... connected.\n",
            "HTTP request sent, awaiting response... 302 Found\n",
            "Location: https://raw.githubusercontent.com/dhrim/bmac_seminar/raw/master/material/deep_learning/dogs_classes.txt [following]\n",
            "--2019-08-07 02:16:41--  https://raw.githubusercontent.com/dhrim/bmac_seminar/raw/master/material/deep_learning/dogs_classes.txt\n",
            "Resolving raw.githubusercontent.com (raw.githubusercontent.com)... 151.101.0.133, 151.101.64.133, 151.101.128.133, ...\n",
            "Connecting to raw.githubusercontent.com (raw.githubusercontent.com)|151.101.0.133|:443... connected.\n",
            "HTTP request sent, awaiting response... 200 OK\n",
            "Length: 228 [text/plain]\n",
            "Saving to: ‘dogs_classes.txt’\n",
            "\n",
            "dogs_classes.txt    100%[===================>]     228  --.-KB/s    in 0s      \n",
            "\n",
            "2019-08-07 02:16:42 (20.6 MB/s) - ‘dogs_classes.txt’ saved [228/228]\n",
            "\n",
            "--2019-08-07 02:16:44--  https://github.com/dhrim/bmac_seminar/raw/master/material/deep_learning/dogs_annotations.txt\n",
            "Resolving github.com (github.com)... 140.82.114.4\n",
            "Connecting to github.com (github.com)|140.82.114.4|:443... connected.\n",
            "HTTP request sent, awaiting response... 302 Found\n",
            "Location: https://raw.githubusercontent.com/dhrim/bmac_seminar/raw/master/material/deep_learning/dogs_annotations.txt [following]\n",
            "--2019-08-07 02:16:45--  https://raw.githubusercontent.com/dhrim/bmac_seminar/raw/master/material/deep_learning/dogs_annotations.txt\n",
            "Resolving raw.githubusercontent.com (raw.githubusercontent.com)... 151.101.0.133, 151.101.64.133, 151.101.128.133, ...\n",
            "Connecting to raw.githubusercontent.com (raw.githubusercontent.com)|151.101.0.133|:443... connected.\n",
            "HTTP request sent, awaiting response... 200 OK\n",
            "Length: 122615 (120K) [text/plain]\n",
            "Saving to: ‘dogs_annotations.txt’\n",
            "\n",
            "dogs_annotations.tx 100%[===================>] 119.74K  --.-KB/s    in 0.04s   \n",
            "\n",
            "2019-08-07 02:16:45 (3.06 MB/s) - ‘dogs_annotations.txt’ saved [122615/122615]\n",
            "\n"
          ],
          "name": "stdout"
        }
      ]
    },
    {
      "cell_type": "code",
      "metadata": {
        "id": "MOjsRVvb3Fym",
        "colab_type": "code",
        "colab": {
          "base_uri": "https://localhost:8080/",
          "height": 193
        },
        "outputId": "6f83fd26-46ae-40ed-aff0-3b63423c97de"
      },
      "source": [
        "!cat dogs_classes.txt"
      ],
      "execution_count": null,
      "outputs": [
        {
          "output_type": "stream",
          "text": [
            "n02085620-Chihuahua\n",
            "n02085782-Japanese_spaniel\n",
            "n02085936-Maltese_dog\n",
            "n02086079-Pekinese\n",
            "n02086240-Shih-Tzu\n",
            "n02086646-Blenheim_spaniel\n",
            "n02086910-papillon\n",
            "n02087046-toy_terrier\n",
            "n02087394-Rhodesian_ridgeback\n",
            "n02088094-Afghan_hound\n"
          ],
          "name": "stdout"
        }
      ]
    },
    {
      "cell_type": "code",
      "metadata": {
        "id": "iqWWUxWt3cWU",
        "colab_type": "code",
        "colab": {
          "base_uri": "https://localhost:8080/",
          "height": 210
        },
        "outputId": "2c75d2d4-35dd-42b5-97bb-2710fd98ef39"
      },
      "source": [
        "!wc dogs_annotations.txt\n",
        "!head -10 dogs_annotations.txt"
      ],
      "execution_count": null,
      "outputs": [
        {
          "output_type": "stream",
          "text": [
            "  1918   3934 122615 dogs_annotations.txt\n",
            "dogs/n02086240-Shih-Tzu/n02086240_8825.jpg 97,46,436,464,0\n",
            "dogs/n02086240-Shih-Tzu/n02086240_4608.jpg 0,100,496,371,0\n",
            "dogs/n02086240-Shih-Tzu/n02086240_1779.jpg 213,114,361,331,0\n",
            "dogs/n02086240-Shih-Tzu/n02086240_5352.jpg 0,57,375,491,0\n",
            "dogs/n02086240-Shih-Tzu/n02086240_9098.jpg 156,9,348,375,0\n",
            "dogs/n02086240-Shih-Tzu/n02086240_963.jpg 0,8,325,492,0\n",
            "dogs/n02086240-Shih-Tzu/n02086240_5541.jpg 63,105,345,284,0\n",
            "dogs/n02086240-Shih-Tzu/n02086240_7100.jpg 6,23,372,456,0\n",
            "dogs/n02086240-Shih-Tzu/n02086240_4629.jpg 32,57,451,373,0\n",
            "dogs/n02086240-Shih-Tzu/n02086240_1958.jpg 43,16,375,495,0\n"
          ],
          "name": "stdout"
        }
      ]
    },
    {
      "cell_type": "markdown",
      "metadata": {
        "id": "Gxy7G23xn9iD",
        "colab_type": "text"
      },
      "source": [
        "## 학습 실행\n",
        "\n",
        "학습에 필요한 파일은 3개이다.\n",
        "\n",
        "- 클래스 파일\n",
        "- 레이블링 파일\n",
        "- 기반 학습 모델\n",
        "\n",
        "\n",
        "\n",
        "\n",
        "그런데 2019/08/07 현재 이 파일 이름들은 train.py안에 하드코딩 되어있다.\n",
        "- 클래스 파일 : model_data/voc_classes.txt\n",
        "- 레이블링 파일 : train.txt\n",
        "- 기반 학습 모델 : model_data/yolo_weights.h5\n",
        "\n",
        "하드 코딩된 바 데로 이를음 변경하고 실행한다.\n",
        "\n"
      ]
    },
    {
      "cell_type": "code",
      "metadata": {
        "id": "FuhgtGs3Lek4",
        "colab_type": "code",
        "colab": {
          "base_uri": "https://localhost:8080/",
          "height": 34
        },
        "outputId": "5c3f4e22-c7b4-4d08-b748-571b3791b729"
      },
      "source": [
        "![ ! -f model_data/voc_classes.txt.org ] && mv model_data/voc_classes.txt model_data/voc_classes.txt.org\n",
        "![ ! -f train.txt.org ] && mv train.txt train.txt.org\n",
        "![ ! -f model_data/yolo_wieghts.org ] && mv model_data/yolo_weights.h5 model_data/yolo_wieghts.h5.org\n",
        "\n",
        "![ ! -f model_data/voc_classes.txt ] && cp dogs_classes.txt model_data/voc_classes.txt\n",
        "![ ! -f train.txt ] && cp dogs_annotations.txt train.txt\n",
        "![ ! -f model_data/yolo_weights.h5 ] && cp yolov3.h5 model_data/yolo_weights.h5\n"
      ],
      "execution_count": null,
      "outputs": [
        {
          "output_type": "stream",
          "text": [
            "mv: cannot stat 'model_data/yolo_weights.h5': No such file or directory\n"
          ],
          "name": "stdout"
        }
      ]
    },
    {
      "cell_type": "code",
      "metadata": {
        "id": "hlEeUd2OLeib",
        "colab_type": "code",
        "colab": {
          "base_uri": "https://localhost:8080/",
          "height": 50
        },
        "outputId": "3955a06c-a928-40ba-df19-acfbf52f925c"
      },
      "source": [
        "!ls -al *.txt"
      ],
      "execution_count": null,
      "outputs": [
        {
          "output_type": "stream",
          "text": [
            "-rw-r--r-- 1 root root 122601 Aug  6 20:33 dogs_annotations.txt\n",
            "-rw-r--r-- 1 root root    228 Aug  6 18:44 dogs_classes.txt\n"
          ],
          "name": "stdout"
        }
      ]
    },
    {
      "cell_type": "code",
      "metadata": {
        "id": "awJrxYrGLegT",
        "colab_type": "code",
        "colab": {
          "base_uri": "https://localhost:8080/",
          "height": 1000
        },
        "outputId": "20765e87-142d-4f68-e380-63ed602c5e6c"
      },
      "source": [
        "!python3 train.py"
      ],
      "execution_count": null,
      "outputs": [
        {
          "output_type": "stream",
          "text": [
            "Using TensorFlow backend.\n",
            "WARNING: Logging before flag parsing goes to stderr.\n",
            "W0806 20:44:08.706888 139875781281664 deprecation_wrapper.py:119] From /usr/local/lib/python3.6/dist-packages/keras/backend/tensorflow_backend.py:95: The name tf.reset_default_graph is deprecated. Please use tf.compat.v1.reset_default_graph instead.\n",
            "\n",
            "W0806 20:44:08.707202 139875781281664 deprecation_wrapper.py:119] From /usr/local/lib/python3.6/dist-packages/keras/backend/tensorflow_backend.py:98: The name tf.placeholder_with_default is deprecated. Please use tf.compat.v1.placeholder_with_default instead.\n",
            "\n",
            "W0806 20:44:08.720846 139875781281664 deprecation_wrapper.py:119] From /usr/local/lib/python3.6/dist-packages/keras/backend/tensorflow_backend.py:102: The name tf.get_default_graph is deprecated. Please use tf.compat.v1.get_default_graph instead.\n",
            "\n",
            "W0806 20:44:08.721091 139875781281664 deprecation_wrapper.py:119] From /usr/local/lib/python3.6/dist-packages/keras/backend/tensorflow_backend.py:517: The name tf.placeholder is deprecated. Please use tf.compat.v1.placeholder instead.\n",
            "\n",
            "W0806 20:44:08.724495 139875781281664 deprecation_wrapper.py:119] From /usr/local/lib/python3.6/dist-packages/keras/backend/tensorflow_backend.py:4138: The name tf.random_uniform is deprecated. Please use tf.random.uniform instead.\n",
            "\n",
            "2019-08-06 20:44:08.752959: I tensorflow/core/platform/profile_utils/cpu_utils.cc:94] CPU Frequency: 2200000000 Hz\n",
            "2019-08-06 20:44:08.753645: I tensorflow/compiler/xla/service/service.cc:168] XLA service 0x22d92c0 executing computations on platform Host. Devices:\n",
            "2019-08-06 20:44:08.753683: I tensorflow/compiler/xla/service/service.cc:175]   StreamExecutor device (0): <undefined>, <undefined>\n",
            "2019-08-06 20:44:08.787154: I tensorflow/stream_executor/platform/default/dso_loader.cc:42] Successfully opened dynamic library libcuda.so.1\n",
            "2019-08-06 20:44:08.929547: I tensorflow/stream_executor/cuda/cuda_gpu_executor.cc:1005] successful NUMA node read from SysFS had negative value (-1), but there must be at least one NUMA node, so returning NUMA node zero\n",
            "2019-08-06 20:44:08.930115: I tensorflow/compiler/xla/service/service.cc:168] XLA service 0x5bb4700 executing computations on platform CUDA. Devices:\n",
            "2019-08-06 20:44:08.930147: I tensorflow/compiler/xla/service/service.cc:175]   StreamExecutor device (0): Tesla T4, Compute Capability 7.5\n",
            "2019-08-06 20:44:08.930375: I tensorflow/stream_executor/cuda/cuda_gpu_executor.cc:1005] successful NUMA node read from SysFS had negative value (-1), but there must be at least one NUMA node, so returning NUMA node zero\n",
            "2019-08-06 20:44:08.930691: I tensorflow/core/common_runtime/gpu/gpu_device.cc:1640] Found device 0 with properties: \n",
            "name: Tesla T4 major: 7 minor: 5 memoryClockRate(GHz): 1.59\n",
            "pciBusID: 0000:00:04.0\n",
            "2019-08-06 20:44:08.931719: I tensorflow/stream_executor/platform/default/dso_loader.cc:42] Successfully opened dynamic library libcudart.so.10.0\n",
            "2019-08-06 20:44:08.933583: I tensorflow/stream_executor/platform/default/dso_loader.cc:42] Successfully opened dynamic library libcublas.so.10.0\n",
            "2019-08-06 20:44:08.934831: I tensorflow/stream_executor/platform/default/dso_loader.cc:42] Successfully opened dynamic library libcufft.so.10.0\n",
            "2019-08-06 20:44:08.935459: I tensorflow/stream_executor/platform/default/dso_loader.cc:42] Successfully opened dynamic library libcurand.so.10.0\n",
            "2019-08-06 20:44:08.937198: I tensorflow/stream_executor/platform/default/dso_loader.cc:42] Successfully opened dynamic library libcusolver.so.10.0\n",
            "2019-08-06 20:44:08.938644: I tensorflow/stream_executor/platform/default/dso_loader.cc:42] Successfully opened dynamic library libcusparse.so.10.0\n",
            "2019-08-06 20:44:08.942239: I tensorflow/stream_executor/platform/default/dso_loader.cc:42] Successfully opened dynamic library libcudnn.so.7\n",
            "2019-08-06 20:44:08.942339: I tensorflow/stream_executor/cuda/cuda_gpu_executor.cc:1005] successful NUMA node read from SysFS had negative value (-1), but there must be at least one NUMA node, so returning NUMA node zero\n",
            "2019-08-06 20:44:08.942681: I tensorflow/stream_executor/cuda/cuda_gpu_executor.cc:1005] successful NUMA node read from SysFS had negative value (-1), but there must be at least one NUMA node, so returning NUMA node zero\n",
            "2019-08-06 20:44:08.942939: I tensorflow/core/common_runtime/gpu/gpu_device.cc:1763] Adding visible gpu devices: 0\n",
            "2019-08-06 20:44:08.942987: I tensorflow/stream_executor/platform/default/dso_loader.cc:42] Successfully opened dynamic library libcudart.so.10.0\n",
            "2019-08-06 20:44:08.943685: I tensorflow/core/common_runtime/gpu/gpu_device.cc:1181] Device interconnect StreamExecutor with strength 1 edge matrix:\n",
            "2019-08-06 20:44:08.943709: I tensorflow/core/common_runtime/gpu/gpu_device.cc:1187]      0 \n",
            "2019-08-06 20:44:08.943721: I tensorflow/core/common_runtime/gpu/gpu_device.cc:1200] 0:   N \n",
            "2019-08-06 20:44:08.943923: I tensorflow/stream_executor/cuda/cuda_gpu_executor.cc:1005] successful NUMA node read from SysFS had negative value (-1), but there must be at least one NUMA node, so returning NUMA node zero\n",
            "2019-08-06 20:44:08.944224: I tensorflow/stream_executor/cuda/cuda_gpu_executor.cc:1005] successful NUMA node read from SysFS had negative value (-1), but there must be at least one NUMA node, so returning NUMA node zero\n",
            "2019-08-06 20:44:08.944513: W tensorflow/core/common_runtime/gpu/gpu_bfc_allocator.cc:40] Overriding allow_growth setting because the TF_FORCE_GPU_ALLOW_GROWTH environment variable is set. Original config value was 0.\n",
            "2019-08-06 20:44:08.944558: I tensorflow/core/common_runtime/gpu/gpu_device.cc:1326] Created TensorFlow device (/job:localhost/replica:0/task:0/device:GPU:0 with 5868 MB memory) -> physical GPU (device: 0, name: Tesla T4, pci bus id: 0000:00:04.0, compute capability: 7.5)\n",
            "W0806 20:44:09.565475 139875781281664 deprecation_wrapper.py:119] From /usr/local/lib/python3.6/dist-packages/keras/backend/tensorflow_backend.py:1834: The name tf.nn.fused_batch_norm is deprecated. Please use tf.compat.v1.nn.fused_batch_norm instead.\n",
            "\n",
            "W0806 20:44:14.729091 139875781281664 deprecation_wrapper.py:119] From /usr/local/lib/python3.6/dist-packages/keras/backend/tensorflow_backend.py:2018: The name tf.image.resize_nearest_neighbor is deprecated. Please use tf.compat.v1.image.resize_nearest_neighbor instead.\n",
            "\n",
            "Create YOLOv3 model with 9 anchors and 10 classes.\n",
            "/usr/local/lib/python3.6/dist-packages/keras/engine/saving.py:1140: UserWarning: Skipping loading of weights for layer conv2d_59 due to mismatch in shape ((1, 1, 1024, 45) vs (255, 1024, 1, 1)).\n",
            "  weight_values[i].shape))\n",
            "/usr/local/lib/python3.6/dist-packages/keras/engine/saving.py:1140: UserWarning: Skipping loading of weights for layer conv2d_59 due to mismatch in shape ((45,) vs (255,)).\n",
            "  weight_values[i].shape))\n",
            "/usr/local/lib/python3.6/dist-packages/keras/engine/saving.py:1140: UserWarning: Skipping loading of weights for layer conv2d_67 due to mismatch in shape ((1, 1, 512, 45) vs (255, 512, 1, 1)).\n",
            "  weight_values[i].shape))\n",
            "/usr/local/lib/python3.6/dist-packages/keras/engine/saving.py:1140: UserWarning: Skipping loading of weights for layer conv2d_67 due to mismatch in shape ((45,) vs (255,)).\n",
            "  weight_values[i].shape))\n",
            "/usr/local/lib/python3.6/dist-packages/keras/engine/saving.py:1140: UserWarning: Skipping loading of weights for layer conv2d_75 due to mismatch in shape ((1, 1, 256, 45) vs (255, 256, 1, 1)).\n",
            "  weight_values[i].shape))\n",
            "/usr/local/lib/python3.6/dist-packages/keras/engine/saving.py:1140: UserWarning: Skipping loading of weights for layer conv2d_75 due to mismatch in shape ((45,) vs (255,)).\n",
            "  weight_values[i].shape))\n",
            "2019-08-06 20:44:19.116366: W tensorflow/core/framework/allocator.cc:107] Allocation of 18874368 exceeds 10% of system memory.\n",
            "2019-08-06 20:44:19.116551: W tensorflow/core/framework/allocator.cc:107] Allocation of 18874368 exceeds 10% of system memory.\n",
            "2019-08-06 20:44:19.116668: W tensorflow/core/framework/allocator.cc:107] Allocation of 18874368 exceeds 10% of system memory.\n",
            "2019-08-06 20:44:19.116792: W tensorflow/core/framework/allocator.cc:107] Allocation of 18874368 exceeds 10% of system memory.\n",
            "2019-08-06 20:44:19.116937: W tensorflow/core/framework/allocator.cc:107] Allocation of 18874368 exceeds 10% of system memory.\n",
            "Load weights model_data/yolo_weights.h5.\n",
            "Freeze the first 249 layers of total 252 layers.\n",
            "W0806 20:44:20.054874 139875781281664 deprecation.py:323] From /usr/local/lib/python3.6/dist-packages/keras/backend/tensorflow_backend.py:3080: add_dispatch_support.<locals>.wrapper (from tensorflow.python.ops.array_ops) is deprecated and will be removed in a future version.\n",
            "Instructions for updating:\n",
            "Use tf.where in 2.0, which has the same broadcast rule as np.where\n",
            "W0806 20:44:23.637264 139875781281664 deprecation_wrapper.py:119] From /usr/local/lib/python3.6/dist-packages/keras/optimizers.py:790: The name tf.train.Optimizer is deprecated. Please use tf.compat.v1.train.Optimizer instead.\n",
            "\n",
            "Train on 1728 samples, val on 191 samples, with batch size 32.\n",
            "W0806 20:44:25.401189 139875781281664 deprecation_wrapper.py:119] From /usr/local/lib/python3.6/dist-packages/keras/callbacks.py:850: The name tf.summary.merge_all is deprecated. Please use tf.compat.v1.summary.merge_all instead.\n",
            "\n",
            "W0806 20:44:25.401519 139875781281664 deprecation_wrapper.py:119] From /usr/local/lib/python3.6/dist-packages/keras/callbacks.py:853: The name tf.summary.FileWriter is deprecated. Please use tf.compat.v1.summary.FileWriter instead.\n",
            "\n",
            "Epoch 1/50\n",
            "2019-08-06 20:44:31.248462: E tensorflow/core/grappler/optimizers/meta_optimizer.cc:502] shape_optimizer failed: Invalid argument: Subshape must have computed start >= end since stride is negative, but is 0 and 2 (computed from start 0 and end 9223372036854775807 over shape with rank 2 and stride-1)\n",
            "2019-08-06 20:44:31.420299: E tensorflow/core/grappler/optimizers/meta_optimizer.cc:502] remapper failed: Invalid argument: Subshape must have computed start >= end since stride is negative, but is 0 and 2 (computed from start 0 and end 9223372036854775807 over shape with rank 2 and stride-1)\n",
            "2019-08-06 20:44:31.866574: E tensorflow/core/grappler/optimizers/meta_optimizer.cc:502] layout failed: Invalid argument: Subshape must have computed start >= end since stride is negative, but is 0 and 2 (computed from start 0 and end 9223372036854775807 over shape with rank 2 and stride-1)\n",
            "2019-08-06 20:44:32.337962: E tensorflow/core/grappler/optimizers/meta_optimizer.cc:502] shape_optimizer failed: Invalid argument: Subshape must have computed start >= end since stride is negative, but is 0 and 2 (computed from start 0 and end 9223372036854775807 over shape with rank 2 and stride-1)\n",
            "2019-08-06 20:44:32.453099: E tensorflow/core/grappler/optimizers/meta_optimizer.cc:502] remapper failed: Invalid argument: Subshape must have computed start >= end since stride is negative, but is 0 and 2 (computed from start 0 and end 9223372036854775807 over shape with rank 2 and stride-1)\n",
            "2019-08-06 20:44:34.260384: I tensorflow/stream_executor/platform/default/dso_loader.cc:42] Successfully opened dynamic library libcudnn.so.7\n",
            "2019-08-06 20:44:37.981463: E tensorflow/stream_executor/cuda/cuda_driver.cc:828] failed to allocate 1.73G (1859220224 bytes) from device: CUDA_ERROR_OUT_OF_MEMORY: out of memory\n",
            "2019-08-06 20:44:37.981565: W tensorflow/core/common_runtime/bfc_allocator.cc:237] Allocator (GPU_0_bfc) ran out of memory trying to allocate 1.62GiB with freed_by_count=0. The caller indicates that this is not a failure, but may mean that there could be performance gains if more memory were available.\n",
            "2019-08-06 20:44:37.986846: E tensorflow/stream_executor/cuda/cuda_driver.cc:828] failed to allocate 1.73G (1859220224 bytes) from device: CUDA_ERROR_OUT_OF_MEMORY: out of memory\n",
            "2019-08-06 20:44:37.986914: W tensorflow/core/common_runtime/bfc_allocator.cc:237] Allocator (GPU_0_bfc) ran out of memory trying to allocate 1.62GiB with freed_by_count=0. The caller indicates that this is not a failure, but may mean that there could be performance gains if more memory were available.\n",
            "2019-08-06 20:44:38.119231: E tensorflow/stream_executor/cuda/cuda_driver.cc:828] failed to allocate 1.73G (1859220224 bytes) from device: CUDA_ERROR_OUT_OF_MEMORY: out of memory\n",
            "2019-08-06 20:44:38.119314: W tensorflow/core/common_runtime/bfc_allocator.cc:237] Allocator (GPU_0_bfc) ran out of memory trying to allocate 1.49GiB with freed_by_count=0. The caller indicates that this is not a failure, but may mean that there could be performance gains if more memory were available.\n",
            "2019-08-06 20:44:38.120833: E tensorflow/stream_executor/cuda/cuda_driver.cc:828] failed to allocate 1.73G (1859220224 bytes) from device: CUDA_ERROR_OUT_OF_MEMORY: out of memory\n",
            "2019-08-06 20:44:38.120892: W tensorflow/core/common_runtime/bfc_allocator.cc:237] Allocator (GPU_0_bfc) ran out of memory trying to allocate 1.49GiB with freed_by_count=0. The caller indicates that this is not a failure, but may mean that there could be performance gains if more memory were available.\n",
            "2019-08-06 20:44:38.217811: I tensorflow/stream_executor/platform/default/dso_loader.cc:42] Successfully opened dynamic library libcublas.so.10.0\n",
            "2019-08-06 20:44:40.665107: W tensorflow/core/common_runtime/bfc_allocator.cc:237] Allocator (GPU_0_bfc) ran out of memory trying to allocate 2.32GiB with freed_by_count=0. The caller indicates that this is not a failure, but may mean that there could be performance gains if more memory were available.\n",
            "2019-08-06 20:44:40.665194: W tensorflow/core/common_runtime/bfc_allocator.cc:237] Allocator (GPU_0_bfc) ran out of memory trying to allocate 2.32GiB with freed_by_count=0. The caller indicates that this is not a failure, but may mean that there could be performance gains if more memory were available.\n",
            "2019-08-06 20:44:40.807624: W tensorflow/core/common_runtime/bfc_allocator.cc:237] Allocator (GPU_0_bfc) ran out of memory trying to allocate 2.32GiB with freed_by_count=0. The caller indicates that this is not a failure, but may mean that there could be performance gains if more memory were available.\n",
            "2019-08-06 20:44:40.807711: W tensorflow/core/common_runtime/bfc_allocator.cc:237] Allocator (GPU_0_bfc) ran out of memory trying to allocate 2.32GiB with freed_by_count=0. The caller indicates that this is not a failure, but may mean that there could be performance gains if more memory were available.\n",
            " 6/54 [==>...........................] - ETA: 3:28 - loss: 5714.0757^C\n"
          ],
          "name": "stdout"
        }
      ]
    },
    {
      "cell_type": "code",
      "metadata": {
        "id": "qRRZ59wQLeW5",
        "colab_type": "code",
        "colab": {}
      },
      "source": [
        ""
      ],
      "execution_count": null,
      "outputs": []
    }
  ]
}